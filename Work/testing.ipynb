{
 "cells": [
  {
   "cell_type": "code",
   "execution_count": 1,
   "metadata": {},
   "outputs": [],
   "source": [
    "import numpy as np"
   ]
  },
  {
   "cell_type": "code",
   "execution_count": 2,
   "metadata": {},
   "outputs": [],
   "source": [
    "def generate_positions(atomname, a_n=6):\n",
    "\tl = 1.39/3.4\n",
    "\ts = 1.09/3.4\n",
    "\tangle = np.pi*np.array([0, 1/3, 2/3, 1, 4/3, 5/3])\n",
    "\tatoms = a_n * [atomname]\n",
    "\tarray = np.zeros((a_n, 3))\n",
    "\tfor i in range(a_n):\n",
    "\t\tarray[i, 0] = np.cos(angle[i])\n",
    "\t\tarray[i, 1] = np.sin(angle[i])\n",
    "\t\tarray[i, 2] = 0\n",
    "\tif atomname == \"C\":\n",
    "\t\treturn list(atoms), l*array\n",
    "\telif atomname == \"H\":\n",
    "\t\treturn list(atoms), (l+s)*array"
   ]
  },
  {
   "cell_type": "code",
   "execution_count": 39,
   "metadata": {},
   "outputs": [],
   "source": [
    "def generate_positions(atomname1, atomname2, a_n=6):\n",
    "\tl = 1.39/3.4\n",
    "\ts = 1.09/3.4\n",
    "\tangle = np.pi*np.array([0, 1/3, 2/3, 1, 4/3, 5/3])\n",
    "\tatom1 = list(a_n * [atomname1])\n",
    "\tatom2 = list(a_n * [atomname2])\n",
    "\tarray = np.zeros((a_n, 3))\n",
    "\tfor i in range(a_n):\n",
    "\t\tarray[i, 0] = np.cos(angle[i])\n",
    "\t\tarray[i, 1] = np.sin(angle[i])\n",
    "\t\tarray[i, 2] = 0\n",
    "\tlist1 = l*array\n",
    "\tlist2 = (l+s)*array\n",
    "\tatomnames = atom1 + atom2\n",
    "\treturn atomnames, np.concatenate((list1, list2), axis=0)"
   ]
  },
  {
   "cell_type": "code",
   "execution_count": 40,
   "metadata": {},
   "outputs": [],
   "source": [
    "atoms, x = generate_positions(\"C\", \"H\", 6)"
   ]
  },
  {
   "cell_type": "code",
   "execution_count": 41,
   "metadata": {},
   "outputs": [
    {
     "name": "stdout",
     "output_type": "stream",
     "text": [
      "['C', 'C', 'C', 'C', 'C', 'C', 'H', 'H', 'H', 'H', 'H', 'H'] [[ 4.08823529e-01  0.00000000e+00  0.00000000e+00]\n",
      " [ 2.04411765e-01  3.54051562e-01  0.00000000e+00]\n",
      " [-2.04411765e-01  3.54051562e-01  0.00000000e+00]\n",
      " [-4.08823529e-01  5.00664427e-17  0.00000000e+00]\n",
      " [-2.04411765e-01 -3.54051562e-01  0.00000000e+00]\n",
      " [ 2.04411765e-01 -3.54051562e-01  0.00000000e+00]\n",
      " [ 7.29411765e-01  0.00000000e+00  0.00000000e+00]\n",
      " [ 3.64705882e-01  6.31689118e-01  0.00000000e+00]\n",
      " [-3.64705882e-01  6.31689118e-01  0.00000000e+00]\n",
      " [-7.29411765e-01  8.93271783e-17  0.00000000e+00]\n",
      " [-3.64705882e-01 -6.31689118e-01  0.00000000e+00]\n",
      " [ 3.64705882e-01 -6.31689118e-01  0.00000000e+00]]\n"
     ]
    }
   ],
   "source": [
    "print(atoms, x)"
   ]
  },
  {
   "cell_type": "code",
   "execution_count": 32,
   "metadata": {},
   "outputs": [
    {
     "data": {
      "text/plain": [
       "(2, 6, 3)"
      ]
     },
     "execution_count": 32,
     "metadata": {},
     "output_type": "execute_result"
    }
   ],
   "source": [
    "x.shape"
   ]
  },
  {
   "cell_type": "code",
   "execution_count": 43,
   "metadata": {},
   "outputs": [],
   "source": [
    "x = np.array([0, 1, 2, 3, 4, 5, 6])"
   ]
  },
  {
   "cell_type": "code",
   "execution_count": 44,
   "metadata": {},
   "outputs": [
    {
     "data": {
      "text/plain": [
       "array([ 0,  2,  4,  6,  8, 10, 12])"
      ]
     },
     "execution_count": 44,
     "metadata": {},
     "output_type": "execute_result"
    }
   ],
   "source": [
    "x*2"
   ]
  },
  {
   "cell_type": "code",
   "execution_count": null,
   "metadata": {},
   "outputs": [],
   "source": []
  }
 ],
 "metadata": {
  "kernelspec": {
   "display_name": "Python 3",
   "language": "python",
   "name": "python3"
  },
  "language_info": {
   "codemirror_mode": {
    "name": "ipython",
    "version": 3
   },
   "file_extension": ".py",
   "mimetype": "text/x-python",
   "name": "python",
   "nbconvert_exporter": "python",
   "pygments_lexer": "ipython3",
   "version": "3.7.1"
  }
 },
 "nbformat": 4,
 "nbformat_minor": 2
}
